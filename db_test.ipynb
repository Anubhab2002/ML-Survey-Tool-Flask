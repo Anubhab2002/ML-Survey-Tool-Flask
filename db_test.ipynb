{
 "cells": [
  {
   "cell_type": "code",
   "execution_count": 1,
   "id": "0b4f5c0e-8ed6-401f-893a-ab9e94527bca",
   "metadata": {},
   "outputs": [],
   "source": [
    "from app import app, db, User, Question, Submission\n",
    "import pandas as pd\n",
    "import json"
   ]
  },
  {
   "cell_type": "code",
   "execution_count": 2,
   "id": "09b0de6a-a68b-44e6-ac67-0c3052bbcdae",
   "metadata": {},
   "outputs": [],
   "source": [
    "with open(\"survey_input_DD_cc_only-test.json\") as f:\n",
    "    data = json.load(f)"
   ]
  },
  {
   "cell_type": "code",
   "execution_count": 3,
   "id": "7ebe6fc8-05cf-4d85-b298-5b3afd5fc335",
   "metadata": {},
   "outputs": [
    {
     "data": {
      "text/plain": [
       "{'id': 4197,\n",
       " 'con': '<div class=\"utterance\"><b>Speaker 1:</b> Hi . What\\'s your name ?  </div><div class=\"utterance\"><b>Speaker 2:</b>  My name is Jung Min . What\\'s your name ?  </div><div class=\"utterance\"><b>Speaker 1:</b>  My name is Jessica . It\\'s nice to meet you .  </div><div class=\"utterance\"><b>Speaker 2:</b>  Yes . It\\'s nice to meet you too . Are you a new student too ?  </div><div class=\"utterance\"><b>Speaker 1:</b>  No . I\\'m a sophomore . I take it you are a new student ?  </div><div class=\"utterance\"><b>Speaker 2:</b>  Yeah . It\\'s pretty exciting to be here .  </div><div class=\"utterance\"><b>Speaker 1:</b>  Have fun while it lasts . The excitement wears off real quick . Especially after you see how much homework you get . Where are you from ?  </div><div class=\"utterance\"><b>Speaker 2:</b>  I\\'m from Korea . My parents wanted me to go to an American university , so I came here .  </div><div class=\"utterance\"><b>Speaker 1:</b>  I have never been to Korea . I\\'ve been to Japan before , but never Korea .  </div><div class=\"utterance\"><b>Speaker 2:</b>  Why were you in Japan ?  </div>',\n",
       " 'context_raw': [\"Hi . What's your name ? \",\n",
       "  \" My name is Jung Min . What's your name ? \",\n",
       "  \" My name is Jessica . It's nice to meet you . \",\n",
       "  \" Yes . It's nice to meet you too . Are you a new student too ? \",\n",
       "  \" No . I'm a sophomore . I take it you are a new student ? \",\n",
       "  \" Yeah . It's pretty exciting to be here . \",\n",
       "  ' Have fun while it lasts . The excitement wears off real quick . Especially after you see how much homework you get . Where are you from ? ',\n",
       "  \" I'm from Korea . My parents wanted me to go to an American university , so I came here . \",\n",
       "  \" I have never been to Korea . I've been to Japan before , but never Korea . \",\n",
       "  ' Why were you in Japan ? '],\n",
       " 'response_A': '<div class=\"utterance\"><b>Speaker 1:</b> My father thought it would be a good experience to take a vacation to a different country . He\\'s so into learning about different cultures .  </div>',\n",
       " 'response_A_raw': \"My father thought it would be a good experience to take a vacation to a different country . He's so into learning about different cultures . \",\n",
       " 'response_A_source': 'gt',\n",
       " 'response_B': '<div class=\"utterance\"><b>Speaker 1:</b>  Did you have a good time in Korea? I\\'ve heard it\\'s very different from America. </div>',\n",
       " 'response_B_raw': \" Did you have a good time in Korea? I've heard it's very different from America.\",\n",
       " 'response_B_source': 'Blenderbot-400M-ft'}"
      ]
     },
     "execution_count": 3,
     "metadata": {},
     "output_type": "execute_result"
    }
   ],
   "source": [
    "data[0]"
   ]
  },
  {
   "cell_type": "code",
   "execution_count": 4,
   "id": "34934487-9403-4fff-91c3-76ca0a5fd03c",
   "metadata": {},
   "outputs": [],
   "source": [
    "with app.app_context():\n",
    "    db.create_all()\n",
    "    for row in data:\n",
    "        # print(row)\n",
    "        q = Question(\n",
    "            sample_id=row['id'],\n",
    "            context=json.dumps(row['context_raw']),\n",
    "            response_a=row['response_A_raw'],\n",
    "            response_b=row['response_B_raw'],\n",
    "            response_a_src=row['response_A_source'],\n",
    "            response_b_src=row['response_B_source'],\n",
    "            is_active=True\n",
    "        )\n",
    "        db.session.add(q)\n",
    "    db.session.commit()"
   ]
  },
  {
   "cell_type": "code",
   "execution_count": 5,
   "id": "01677920-fca2-4449-bd18-ee1c27225b9f",
   "metadata": {},
   "outputs": [
    {
     "name": "stdout",
     "output_type": "stream",
     "text": [
      "User('user1', 'https://localhost')\n"
     ]
    }
   ],
   "source": [
    "with app.app_context():\n",
    "    demo_user = User(\n",
    "        prolific_id=\"user1\",\n",
    "        ref_url=\"https://localhost\"\n",
    "    )\n",
    "    print(demo_user)\n",
    "    db.session.add(demo_user)\n",
    "    db.session.commit()"
   ]
  },
  {
   "cell_type": "code",
   "execution_count": 6,
   "id": "afcadf1c-a742-4b86-b6a5-14ab117b3390",
   "metadata": {},
   "outputs": [
    {
     "name": "stdout",
     "output_type": "stream",
     "text": [
      "[User('user1', 'https://localhost')]\n"
     ]
    }
   ],
   "source": [
    "with app.app_context():\n",
    "    print(User.query.all())"
   ]
  },
  {
   "cell_type": "code",
   "execution_count": null,
   "id": "c217f99f-50f6-49c7-ac15-c995e2bf28dd",
   "metadata": {},
   "outputs": [],
   "source": []
  }
 ],
 "metadata": {
  "kernelspec": {
   "display_name": "Python 3",
   "language": "python",
   "name": "python3"
  },
  "language_info": {
   "codemirror_mode": {
    "name": "ipython",
    "version": 3
   },
   "file_extension": ".py",
   "mimetype": "text/x-python",
   "name": "python",
   "nbconvert_exporter": "python",
   "pygments_lexer": "ipython3",
   "version": "3.9.12"
  }
 },
 "nbformat": 4,
 "nbformat_minor": 5
}
